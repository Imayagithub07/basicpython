{
  "nbformat": 4,
  "nbformat_minor": 0,
  "metadata": {
    "colab": {
      "provenance": []
    },
    "kernelspec": {
      "name": "python3",
      "display_name": "Python 3"
    },
    "language_info": {
      "name": "python"
    }
  },
  "cells": [
    {
      "cell_type": "code",
      "execution_count": 1,
      "metadata": {
        "colab": {
          "base_uri": "https://localhost:8080/"
        },
        "id": "IgTXyexie8b3",
        "outputId": "83c59a69-69bc-47d9-dfb4-50a17da2c9e5"
      },
      "outputs": [
        {
          "output_type": "stream",
          "name": "stdout",
          "text": [
            "Machine learning\n",
            "Natural Language Processing\n",
            "Robotics\n",
            "Computer vision\n",
            "Deep learning Specialization\n"
          ]
        }
      ],
      "source": [
        "# creating funtions for that prints the AI Fields for new comers :\n",
        "def AI_FIELDS():\n",
        "  print('Machine learning')\n",
        "  print(\"Natural Language Processing\")\n",
        "  print(\"Robotics\")\n",
        "  print(\"Computer vision\")\n",
        "  print(\"Deep learning Specialization\")\n",
        "\n",
        "AI_FIELDS()\n"
      ]
    },
    {
      "cell_type": "code",
      "source": [
        "# creatung a function that returns odd or even\n",
        "def evenodd():\n",
        "  i=int(input('ENTER A NUMBER :'))\n",
        "  if i % 2 == 0:\n",
        "    print('EVEN NUMBER')\n",
        "  else:\n",
        "    print(' ODD NUMBER')\n",
        "\n",
        "# call the function it automatically exectues our statements\n",
        "\n",
        "evenodd()"
      ],
      "metadata": {
        "colab": {
          "base_uri": "https://localhost:8080/"
        },
        "id": "b6-UYf2sg-kc",
        "outputId": "9516de16-1087-4e1b-e0f3-1e5d242b0d8e"
      },
      "execution_count": 4,
      "outputs": [
        {
          "output_type": "stream",
          "name": "stdout",
          "text": [
            "ENTER A NUMBER :19\n",
            " ODD NUMBER\n"
          ]
        }
      ]
    },
    {
      "cell_type": "code",
      "source": [
        "# vote elgible checking by age by passing parametre ;\n",
        "def vote(age):\n",
        "  if age >=18 :\n",
        "    print('You are eligible ')\n",
        "  else:\n",
        "    print('Not eligible')\n",
        "vote(3)"
      ],
      "metadata": {
        "colab": {
          "base_uri": "https://localhost:8080/"
        },
        "id": "723obi9_hxcB",
        "outputId": "5a1154be-b258-41f0-c171-460360eb0030"
      },
      "execution_count": 6,
      "outputs": [
        {
          "output_type": "stream",
          "name": "stdout",
          "text": [
            "Not eligible\n"
          ]
        }
      ]
    },
    {
      "cell_type": "code",
      "source": [
        "vote(18)"
      ],
      "metadata": {
        "colab": {
          "base_uri": "https://localhost:8080/"
        },
        "id": "E1sG8Jrgiu3Y",
        "outputId": "14471318-6341-45ae-fb7b-4931cf97d52d"
      },
      "execution_count": 7,
      "outputs": [
        {
          "output_type": "stream",
          "name": "stdout",
          "text": [
            "You are eligible \n"
          ]
        }
      ]
    },
    {
      "cell_type": "code",
      "source": [
        "vote(17)"
      ],
      "metadata": {
        "id": "QIBP56_ujDwR",
        "outputId": "4096ef9f-9748-4e60-d8b4-73b503c8a8d1",
        "colab": {
          "base_uri": "https://localhost:8080/"
        }
      },
      "execution_count": 8,
      "outputs": [
        {
          "output_type": "stream",
          "name": "stdout",
          "text": [
            "Not eligible\n"
          ]
        }
      ]
    },
    {
      "cell_type": "code",
      "source": [
        "# creating function that asks a user using loops and automatically prints percentage and total of all subjects :\n",
        "\n",
        "def calculate_percentage():\n",
        "    total_marks = 500\n",
        "    subject_marks = []\n",
        "\n",
        "    # Input marks for each subject\n",
        "    for i in range(5):\n",
        "        subject = input(f\"Enter marks for subject {i+1}: \")\n",
        "        subject_marks.append(float(subject))\n",
        "\n",
        "    # Calculate total marks\n",
        "    total_obtained_marks = sum(subject_marks)\n",
        "\n",
        "    # Calculate percentage\n",
        "    percentage = (total_obtained_marks / total_marks) * 100\n",
        "\n",
        "    # Print results\n",
        "    print(f\"Total marks obtained: {total_obtained_marks}\")\n",
        "    print(f\"Percentage: {percentage} % out of 100\")\n",
        "\n",
        "calculate_percentage()\n",
        "\n",
        "\n"
      ],
      "metadata": {
        "id": "6LE8DL1ujHcm",
        "outputId": "f751541a-4b1f-49a9-dbbd-5ca721b2d75f",
        "colab": {
          "base_uri": "https://localhost:8080/"
        }
      },
      "execution_count": 9,
      "outputs": [
        {
          "output_type": "stream",
          "name": "stdout",
          "text": [
            "Enter marks for subject 1: 88\n",
            "Enter marks for subject 2: 81\n",
            "Enter marks for subject 3: 82\n",
            "Enter marks for subject 4: 85\n",
            "Enter marks for subject 5: 91\n",
            "Total marks obtained: 427.0\n",
            "Percentage: 85.39999999999999% out of 100\n"
          ]
        }
      ]
    },
    {
      "cell_type": "code",
      "source": [],
      "metadata": {
        "id": "eA9VdJ7uopAt"
      },
      "execution_count": null,
      "outputs": []
    }
  ]
}