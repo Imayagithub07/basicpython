{
  "nbformat": 4,
  "nbformat_minor": 0,
  "metadata": {
    "colab": {
      "provenance": [],
      "toc_visible": true
    },
    "kernelspec": {
      "name": "python3",
      "display_name": "Python 3"
    },
    "language_info": {
      "name": "python"
    }
  },
  "cells": [
    {
      "cell_type": "code",
      "source": [
        "# creating class for course subfileds in AI and calling it by objects :\n",
        "class ai_fields():\n",
        "  def cv():\n",
        "    print(\" Computet vision\")\n",
        "  def ml():\n",
        "    print(\" Machine learning\")\n",
        "  def dl():\n",
        "    print(' Deep learing')\n",
        "  def rb():\n",
        "    print(' Robotics')\n",
        "  def dev():\n",
        "    print('AI developer')"
      ],
      "metadata": {
        "id": "o95xdixrpCcN"
      },
      "execution_count": 1,
      "outputs": []
    },
    {
      "cell_type": "code",
      "source": [
        "print(ai_fields.cv())\n",
        "print(ai_fields.ml())"
      ],
      "metadata": {
        "id": "_GEmcsmWP580",
        "outputId": "b51263d7-090b-4117-fc1c-05d698d23aa4",
        "colab": {
          "base_uri": "https://localhost:8080/"
        }
      },
      "execution_count": 3,
      "outputs": [
        {
          "output_type": "stream",
          "name": "stdout",
          "text": [
            " Computet vision\n",
            "None\n",
            " Machine learning\n",
            "None\n"
          ]
        }
      ]
    },
    {
      "cell_type": "code",
      "source": [
        "# accessing through self function in class and formatted string to access varibales :\n",
        "class NumberChecker:\n",
        "    def __init__(self, number):\n",
        "        self.number = number\n",
        "\n",
        "    def check_odd_or_even(self):\n",
        "        if self.number % 2 == 0:\n",
        "            return \"Even\"\n",
        "        else:\n",
        "            return \"Odd\"\n",
        "\n",
        "# Example usage:\n",
        "number = int(input(\"Enter a number: \"))\n",
        "checker = NumberChecker(number)\n",
        "result = checker.check_odd_or_even()\n",
        "print(f\"The number {number} is {result}.\")\n"
      ],
      "metadata": {
        "id": "D-iVX4CfQ3s_",
        "outputId": "f8a9a69b-8ac8-4a0e-fd28-99d4eb3850c1",
        "colab": {
          "base_uri": "https://localhost:8080/"
        }
      },
      "execution_count": 4,
      "outputs": [
        {
          "output_type": "stream",
          "name": "stdout",
          "text": [
            "Enter a number: 8\n",
            "The number 8 is Even.\n"
          ]
        }
      ]
    },
    {
      "cell_type": "code",
      "source": [
        "# like sma eabove another example using __init__ xonstructor and self function\n",
        "class MarriageEligibilityChecker:\n",
        "    def __init__(self, age):\n",
        "        self.age = age\n",
        "\n",
        "    def check_eligibility(self):\n",
        "        if self.age >= 21:\n",
        "            return \"Eligible for marriage\"\n",
        "        else:\n",
        "            return \"Not eligible for marriage\"\n",
        "\n",
        "# Example usage:\n",
        "person1 = MarriageEligibilityChecker(19)\n",
        "print(person1.check_eligibility())  # Output: Not eligible for marriage\n",
        "\n",
        "person2 = MarriageEligibilityChecker(25)\n",
        "print(person2.check_eligibility())  # Output: Eligible for marriage\n"
      ],
      "metadata": {
        "id": "FgqEGsSWST5K",
        "outputId": "03349f9b-81ce-4682-8864-6b74cfe726c0",
        "colab": {
          "base_uri": "https://localhost:8080/"
        }
      },
      "execution_count": 5,
      "outputs": [
        {
          "output_type": "stream",
          "name": "stdout",
          "text": [
            "Not eligible for marriage\n",
            "Eligible for marriage\n"
          ]
        }
      ]
    }
  ]
}