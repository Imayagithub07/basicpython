{
  "nbformat": 4,
  "nbformat_minor": 0,
  "metadata": {
    "colab": {
      "provenance": [],
      "gpuType": "T4"
    },
    "kernelspec": {
      "name": "python3",
      "display_name": "Python 3"
    },
    "language_info": {
      "name": "python"
    },
    "accelerator": "GPU"
  },
  "cells": [
    {
      "cell_type": "code",
      "source": [
        "#printing 0 to 19 using for loop and range fucntion\n",
        "for i in range(0,20):\n",
        "  print(i)"
      ],
      "metadata": {
        "colab": {
          "base_uri": "https://localhost:8080/"
        },
        "id": "vgXd5YWVyOUy",
        "outputId": "4dd9f083-4b73-4cca-f8df-be27f3b8dd24"
      },
      "execution_count": 2,
      "outputs": [
        {
          "output_type": "stream",
          "name": "stdout",
          "text": [
            "0\n",
            "1\n",
            "2\n",
            "3\n",
            "4\n",
            "5\n",
            "6\n",
            "7\n",
            "8\n",
            "9\n",
            "10\n",
            "11\n",
            "12\n",
            "13\n",
            "14\n",
            "15\n",
            "16\n",
            "17\n",
            "18\n",
            "19\n"
          ]
        }
      ]
    },
    {
      "cell_type": "code",
      "source": [
        "from os import waitid_result\n",
        "# we can also print in soecific range by ( start ,stop, increment)\n",
        "for w in range(10,21,2):\n",
        "  print(w)"
      ],
      "metadata": {
        "colab": {
          "base_uri": "https://localhost:8080/"
        },
        "id": "6zWczgUSEEzj",
        "outputId": "34b78996-6ce9-4e08-db40-117deacfb34c"
      },
      "execution_count": 3,
      "outputs": [
        {
          "output_type": "stream",
          "name": "stdout",
          "text": [
            "10\n",
            "12\n",
            "14\n",
            "16\n",
            "18\n",
            "20\n"
          ]
        }
      ]
    },
    {
      "cell_type": "code",
      "source": [
        "l=[12,34,45,66,77,19,25,55,33,22,11]\n",
        "print(len(l))\n"
      ],
      "metadata": {
        "colab": {
          "base_uri": "https://localhost:8080/"
        },
        "id": "osRpbzVBE2Et",
        "outputId": "6be8d08e-54f0-4367-fca7-bacda14589fb"
      },
      "execution_count": 5,
      "outputs": [
        {
          "output_type": "stream",
          "name": "stdout",
          "text": [
            "9\n"
          ]
        }
      ]
    },
    {
      "cell_type": "code",
      "source": [
        "# printing odd number in the list:\n",
        "for o in l:\n",
        "  if o % 2 != 0:\n",
        "    print('odd number',o)"
      ],
      "metadata": {
        "colab": {
          "base_uri": "https://localhost:8080/"
        },
        "id": "FdBqfxbEE4Gc",
        "outputId": "6e893c57-7123-470e-efec-efaf6c9d2cd9"
      },
      "execution_count": 7,
      "outputs": [
        {
          "output_type": "stream",
          "name": "stdout",
          "text": [
            "odd number 45\n",
            "odd number 77\n",
            "odd number 55\n",
            "odd number 33\n",
            "odd number 11\n"
          ]
        }
      ]
    },
    {
      "cell_type": "code",
      "source": [
        "for e in l:\n",
        "  if e%2==0:\n",
        "    print('even number',e)"
      ],
      "metadata": {
        "colab": {
          "base_uri": "https://localhost:8080/"
        },
        "id": "3rFXr4n2HBOZ",
        "outputId": "62ee7321-8f12-45b5-986d-12328ea28dca"
      },
      "execution_count": 9,
      "outputs": [
        {
          "output_type": "stream",
          "name": "stdout",
          "text": [
            "even number 12\n",
            "even number 34\n",
            "even number 66\n",
            "even number 22\n"
          ]
        }
      ]
    }
  ]
}