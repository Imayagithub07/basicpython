{
  "nbformat": 4,
  "nbformat_minor": 0,
  "metadata": {
    "colab": {
      "provenance": [],
      "gpuType": "T4"
    },
    "kernelspec": {
      "name": "python3",
      "display_name": "Python 3"
    },
    "language_info": {
      "name": "python"
    },
    "accelerator": "GPU"
  },
  "cells": [
    {
      "cell_type": "code",
      "source": [
        "# condtion checking using if statement\n",
        "a=10\n",
        "if a==10:\n",
        "  print('value is correct')"
      ],
      "metadata": {
        "colab": {
          "base_uri": "https://localhost:8080/"
        },
        "id": "pQHN9EWOIBLl",
        "outputId": "b81dd42c-7b10-4e3b-ce26-315a45fa4390"
      },
      "execution_count": 10,
      "outputs": [
        {
          "output_type": "stream",
          "name": "stdout",
          "text": [
            "value is correct\n"
          ]
        }
      ]
    },
    {
      "cell_type": "code",
      "source": [
        "# password checker program usig if and else statement and input statements:\n",
        "user=input(' ENTER A USERNAME :')\n",
        "pw=input(' ENTER A PASSWORD :')\n",
        "if pw=='username':\n",
        "  print(' GRANTED ')\n",
        "else:\n",
        "  print('PASSWORD IS INCORRECT')\n",
        "\n"
      ],
      "metadata": {
        "colab": {
          "base_uri": "https://localhost:8080/"
        },
        "id": "hqqaAB4iIia3",
        "outputId": "f5899b7f-3c63-428a-8c3b-37df6e0c9020"
      },
      "execution_count": 11,
      "outputs": [
        {
          "output_type": "stream",
          "name": "stdout",
          "text": [
            " ENTER A USERNAME :IMAYA\n",
            " ENTER A PASSWORD :username\n",
            " GRANTED\n"
          ]
        }
      ]
    },
    {
      "cell_type": "code",
      "source": [
        "# finding positive and negative number\n",
        "a=int(input(' ENTER A NUMBER :'))\n",
        "if a>=0:\n",
        "  print( ' positve number ')\n",
        "else:\n",
        "  print(' negative number ')\n",
        ""
      ],
      "metadata": {
        "colab": {
          "base_uri": "https://localhost:8080/"
        },
        "id": "Vn_AfoMLJwa-",
        "outputId": "2cf53c14-b553-480d-b723-5978d65aa604"
      },
      "execution_count": 16,
      "outputs": [
        {
          "output_type": "stream",
          "name": "stdout",
          "text": [
            " ENTER A NUMBER :-22\n",
            " negative number \n"
          ]
        }
      ]
    },
    {
      "cell_type": "code",
      "source": [
        "# Sample list of numbers\n",
        "numbers = [1, 2, 3, 4, 5, 6, 7, 8, 9, 10]\n",
        "\n",
        "# Iterate over each number in the list\n",
        "for num in numbers:\n",
        "    # Check if the number is odd and not divisible by 5\n",
        "    if num % 5 != 0:\n",
        "        # Print the odd number\n",
        "        print(num)"
      ],
      "metadata": {
        "colab": {
          "base_uri": "https://localhost:8080/"
        },
        "id": "3SbK8cQkVI7V",
        "outputId": "d492a60b-734c-481f-d2ce-07cca01f70ae"
      },
      "execution_count": 21,
      "outputs": [
        {
          "output_type": "stream",
          "name": "stdout",
          "text": [
            "1\n",
            "2\n",
            "3\n",
            "4\n",
            "6\n",
            "7\n",
            "8\n",
            "9\n"
          ]
        }
      ]
    }
  ]
}